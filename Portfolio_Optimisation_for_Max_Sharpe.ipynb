{
 "cells": [
  {
   "cell_type": "code",
   "execution_count": 8,
   "id": "2697fbe4",
   "metadata": {},
   "outputs": [],
   "source": [
    "import numpy as np\n",
    "import pandas as pd\n",
    "from pypfopt import EfficientFrontier, risk_models, expected_returns, objective_functions\n",
    "import xlwings as xw\n",
    "import yfinance as yf"
   ]
  },
  {
   "cell_type": "code",
   "execution_count": 9,
   "id": "90a94784",
   "metadata": {},
   "outputs": [],
   "source": [
    "def optimise_python():\n",
    "    wb = xw.Book(\"a.xlsm\")   #step1-connect to excel file\n",
    "    sheet = wb.sheets['Sheet1']\n",
    "    \n",
    "    x1 = sheet.range('B4').value #step2- taking tickers from excel as input\n",
    "    tickers = x1.split(\",\")\n",
    "    \n",
    "    data = yf.download(tickers, start='2019-01-01', end='2025-01-01')['Adj Close'] #step3- data,returns,risk\n",
    "    returns = expected_returns.mean_historical_return(data)\n",
    "    cov_matrix = risk_models.sample_cov(data)\n",
    "\n",
    "    max_return = max(returns)\n",
    "    min_return = min(returns)\n",
    "    \n",
    "    ef = EfficientFrontier(returns, cov_matrix) #step4- efficient frontier\n",
    "    ef.add_objective(objective_functions.L2_reg, gamma=0.3)\n",
    "    weights = ef.max_sharpe()\n",
    "    cleaned_weights = ef.clean_weights()\n",
    "\n",
    "    optimized_return = round(ef.portfolio_performance()[0]*100,2)\n",
    "    optimized_risk = round(ef.portfolio_performance()[1]*100,2)\n",
    "    optimized_sharpe = round(ef.portfolio_performance()[2],2)\n",
    "\n",
    "    optimal_weights = [] #step5- convert ef weights for export\n",
    "    for stock,weight in cleaned_weights.items():\n",
    "        optimal_weights.append([stock,round(weight*100,2)])\n",
    "    data2 = pd.DataFrame(optimal_weights)\n",
    "############################################################################### step5- transferring output data back to excel\n",
    "    sheet.range('A12:C27').value = \"\"\n",
    "    sheet['A12'].value = data2\n",
    "\n",
    "    sheet.range('A12:C12').value = \"\"\n",
    "    sheet.range('A12:A27').value = \"\"\n",
    "\n",
    "    sheet['B12'].value = \"stock\"\n",
    "    sheet['C12'].value = \"Optimal Weight\" \n",
    "\n",
    "    sheet['B7'].value = optimized_sharpe # sharpe\n",
    "    sheet['B8'].value = optimized_return # return\n",
    "    sheet['B9'].value = optimized_risk # risk\n",
    "################################################################################\n",
    "    wb.save() #saving excel file"
   ]
  },
  {
   "cell_type": "code",
   "execution_count": 10,
   "id": "2f22fd86",
   "metadata": {},
   "outputs": [
    {
     "name": "stdout",
     "output_type": "stream",
     "text": [
      "[*********************100%%**********************]  4 of 4 completed\n"
     ]
    },
    {
     "name": "stderr",
     "output_type": "stream",
     "text": [
      "C:\\Users\\srina\\anaconda3\\lib\\site-packages\\pypfopt\\efficient_frontier\\efficient_frontier.py:259: UserWarning: max_sharpe transforms the optimization problem so additional objectives may not work as expected.\n",
      "  warnings.warn(\n"
     ]
    }
   ],
   "source": [
    "optimise_python()"
   ]
  }
 ],
 "metadata": {
  "kernelspec": {
   "display_name": "Python 3 (ipykernel)",
   "language": "python",
   "name": "python3"
  },
  "language_info": {
   "codemirror_mode": {
    "name": "ipython",
    "version": 3
   },
   "file_extension": ".py",
   "mimetype": "text/x-python",
   "name": "python",
   "nbconvert_exporter": "python",
   "pygments_lexer": "ipython3",
   "version": "3.10.9"
  }
 },
 "nbformat": 4,
 "nbformat_minor": 5
}
